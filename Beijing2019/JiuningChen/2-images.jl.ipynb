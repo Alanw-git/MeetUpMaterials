{
 "cells": [
  {
   "cell_type": "code",
   "execution_count": 1,
   "metadata": {
    "slideshow": {
     "slide_type": "notes"
    }
   },
   "outputs": [
    {
     "name": "stderr",
     "output_type": "stream",
     "text": [
      "┌ Info: Recompiling stale cache file /Users/jc/.julia/compiled/v1.2/Images/H8Vxc.ji for Images [916415d5-f1e6-5110-898d-aaa5f9f070e0]\n",
      "└ @ Base loading.jl:1240\n",
      "┌ Info: Recompiling stale cache file /Users/jc/.julia/compiled/v1.2/ImageQualityIndexes/r7w33.ji for ImageQualityIndexes [2996bd0c-7a13-11e9-2da2-2f5ce47296a9]\n",
      "└ @ Base loading.jl:1240\n"
     ]
    }
   ],
   "source": [
    "using Images, TestImages, BenchmarkTools, ImageQualityIndexes, ImageBinarization"
   ]
  },
  {
   "cell_type": "markdown",
   "metadata": {
    "slideshow": {
     "slide_type": "slide"
    }
   },
   "source": [
    "# Part II: JuliaImages 在做什么"
   ]
  },
  {
   "cell_type": "markdown",
   "metadata": {
    "slideshow": {
     "slide_type": "slide"
    }
   },
   "source": [
    "## 1.1 统一图像类型"
   ]
  },
  {
   "cell_type": "markdown",
   "metadata": {
    "slideshow": {
     "slide_type": "subslide"
    }
   },
   "source": [
    "### 1.1.1 现状"
   ]
  },
  {
   "cell_type": "markdown",
   "metadata": {
    "slideshow": {
     "slide_type": "fragment"
    }
   },
   "source": [
    "关于图像，我们有...\n",
    "\n",
    "* `UInt8`: {0, 1, ..., 255}\n",
    "* `UInt16`: {0, 1, ..., 65535}\n",
    "* `Float32`: [0. -1.]\n",
    "* `Float64`: [0., 1.]"
   ]
  },
  {
   "cell_type": "markdown",
   "metadata": {
    "slideshow": {
     "slide_type": "subslide"
    }
   },
   "source": [
    "关于色彩，我们有...\n",
    "\n",
    "* 灰度图 `Gray`\n",
    "* 彩色`RGB`\n",
    "* 彩色`Lab`\n",
    "* 彩色`HSV`"
   ]
  },
  {
   "cell_type": "markdown",
   "metadata": {
    "slideshow": {
     "slide_type": "subslide"
    }
   },
   "source": [
    "关于图像的维度，我们还有...\n",
    "\n",
    "* 时间\n",
    "* WHCB vs BCWH (Batch, Channel, Width, Height)"
   ]
  },
  {
   "cell_type": "markdown",
   "metadata": {
    "slideshow": {
     "slide_type": "subslide"
    }
   },
   "source": [
    "图像的表示方式又有...\n",
    "\n",
    "* 矩阵\n",
    "* 点云"
   ]
  },
  {
   "cell_type": "markdown",
   "metadata": {
    "slideshow": {
     "slide_type": "subslide"
    }
   },
   "source": [
    "这种现象就导致了... 对于一个尺寸为`(256, 128, 3)`的矩阵，有如下解释：\n",
    "\n",
    "* 一个宽高深为（256, 128, 3)的3D灰度图 or Gray MRI images\n",
    "* 一个宽高为(256, 128)的彩色RGB图片\n",
    "* 一个宽高为(256, 128)的彩色Lab图片\n",
    "* 一个宽高为(256, 128)的三帧图片"
   ]
  },
  {
   "cell_type": "markdown",
   "metadata": {
    "slideshow": {
     "slide_type": "subslide"
    }
   },
   "source": [
    "在使用Matlab Image Processing Toolbox, Python scikit-images, OpenCV的过程中，我们一般都是将图像转换/解释为RGB图像。\n"
   ]
  },
  {
   "cell_type": "markdown",
   "metadata": {
    "slideshow": {
     "slide_type": "fragment"
    }
   },
   "source": [
    "图像究竟是什么是由我们来解释的"
   ]
  },
  {
   "cell_type": "code",
   "execution_count": 2,
   "metadata": {
    "slideshow": {
     "slide_type": "subslide"
    }
   },
   "outputs": [
    {
     "data": {
      "text/plain": [
       "3×3×3 Array{Float64,3}:\n",
       "[:, :, 1] =\n",
       " 0.680456  0.87894   0.498237\n",
       " 0.167882  0.465608  0.725763\n",
       " 0.874397  0.181259  0.708058\n",
       "\n",
       "[:, :, 2] =\n",
       " 0.845273  0.274575  0.842656\n",
       " 0.269204  0.984254  0.951895\n",
       " 0.398728  0.570891  0.600963\n",
       "\n",
       "[:, :, 3] =\n",
       " 0.94368   0.775177  0.368404\n",
       " 0.873057  0.244958  0.760128\n",
       " 0.508583  0.703861  0.953323"
      ]
     },
     "execution_count": 2,
     "metadata": {},
     "output_type": "execute_result"
    }
   ],
   "source": [
    "img = rand(3, 3, 3)"
   ]
  },
  {
   "cell_type": "code",
   "execution_count": 3,
   "metadata": {
    "slideshow": {
     "slide_type": "subslide"
    }
   },
   "outputs": [
    {
     "data": {
      "image/png": "[encoded data removed]",
      "text/plain": [
       "3×3 reshape(reinterpret(RGB{Float64}, ::Array{Float64,3}), 3, 3) with eltype RGB{Float64}:\n",
       " RGB{Float64}(0.680456,0.167882,0.874397)  …  RGB{Float64}(0.94368,0.873057,0.508583) \n",
       " RGB{Float64}(0.87894,0.465608,0.181259)      RGB{Float64}(0.775177,0.244958,0.703861)\n",
       " RGB{Float64}(0.498237,0.725763,0.708058)     RGB{Float64}(0.368404,0.760128,0.953323)"
      ]
     },
     "execution_count": 3,
     "metadata": {},
     "output_type": "execute_result"
    }
   ],
   "source": [
    "colorview(RGB, img)"
   ]
  },
  {
   "cell_type": "code",
   "execution_count": 4,
   "metadata": {},
   "outputs": [
    {
     "data": {
      "text/plain": [
       "Base.ReshapedArray{RGB{Float64},2,Base.ReinterpretArray{RGB{Float64},3,Float64,Array{Float64,3}},Tuple{}}"
      ]
     },
     "execution_count": 4,
     "metadata": {},
     "output_type": "execute_result"
    }
   ],
   "source": [
    "typeof(ans)"
   ]
  },
  {
   "cell_type": "code",
   "execution_count": 5,
   "metadata": {
    "scrolled": true,
    "slideshow": {
     "slide_type": "subslide"
    }
   },
   "outputs": [
    {
     "data": {
      "text/plain": [
       "Base.ReshapedArray{Lab{Float64},2,Base.ReinterpretArray{Lab{Float64},3,Float64,Array{Float64,3}},Tuple{}}"
      ]
     },
     "execution_count": 5,
     "metadata": {},
     "output_type": "execute_result"
    }
   ],
   "source": [
    "colorview(Lab, img) |> typeof"
   ]
  },
  {
   "cell_type": "code",
   "execution_count": 6,
   "metadata": {
    "slideshow": {
     "slide_type": "subslide"
    }
   },
   "outputs": [
    {
     "data": {
      "image/png": "[encoded data removed]",
      "text/plain": [
       "3×3 reshape(reinterpret(HSV{Float64}, ::Array{Float64,3}), 3, 3) with eltype HSV{Float64}:\n",
       " HSV{Float64}(0.680456,0.167882,0.874397)  …  HSV{Float64}(0.94368,0.873057,0.508583) \n",
       " HSV{Float64}(0.87894,0.465608,0.181259)      HSV{Float64}(0.775177,0.244958,0.703861)\n",
       " HSV{Float64}(0.498237,0.725763,0.708058)     HSV{Float64}(0.368404,0.760128,0.953323)"
      ]
     },
     "execution_count": 6,
     "metadata": {},
     "output_type": "execute_result"
    }
   ],
   "source": [
    "colorview(HSV, img)"
   ]
  },
  {
   "cell_type": "code",
   "execution_count": 7,
   "metadata": {
    "slideshow": {
     "slide_type": "subslide"
    }
   },
   "outputs": [
    {
     "data": {
      "text/plain": [
       "3×3×3 reinterpret(Gray{Float64}, ::Array{Float64,3}):\n",
       "[:, :, 1] =\n",
       " Gray{Float64}(0.680456)  Gray{Float64}(0.87894)   Gray{Float64}(0.498237)\n",
       " Gray{Float64}(0.167882)  Gray{Float64}(0.465608)  Gray{Float64}(0.725763)\n",
       " Gray{Float64}(0.874397)  Gray{Float64}(0.181259)  Gray{Float64}(0.708058)\n",
       "\n",
       "[:, :, 2] =\n",
       " Gray{Float64}(0.845273)  Gray{Float64}(0.274575)  Gray{Float64}(0.842656)\n",
       " Gray{Float64}(0.269204)  Gray{Float64}(0.984254)  Gray{Float64}(0.951895)\n",
       " Gray{Float64}(0.398728)  Gray{Float64}(0.570891)  Gray{Float64}(0.600963)\n",
       "\n",
       "[:, :, 3] =\n",
       " Gray{Float64}(0.94368)   Gray{Float64}(0.775177)  Gray{Float64}(0.368404)\n",
       " Gray{Float64}(0.873057)  Gray{Float64}(0.244958)  Gray{Float64}(0.760128)\n",
       " Gray{Float64}(0.508583)  Gray{Float64}(0.703861)  Gray{Float64}(0.953323)"
      ]
     },
     "execution_count": 7,
     "metadata": {},
     "output_type": "execute_result"
    }
   ],
   "source": [
    "colorview(Gray, img)"
   ]
  },
  {
   "cell_type": "markdown",
   "metadata": {
    "slideshow": {
     "slide_type": "slide"
    }
   },
   "source": [
    "### 1.1.2. 问题"
   ]
  },
  {
   "cell_type": "markdown",
   "metadata": {
    "slideshow": {
     "slide_type": "fragment"
    }
   },
   "source": [
    "* 如何保证这种解释的统一性"
   ]
  },
  {
   "cell_type": "markdown",
   "metadata": {
    "slideshow": {
     "slide_type": "fragment"
    }
   },
   "source": [
    "* 如何与其他的图像类型进行互操作"
   ]
  },
  {
   "cell_type": "markdown",
   "metadata": {
    "slideshow": {
     "slide_type": "fragment"
    }
   },
   "source": [
    "* 如何协调非标准库 (Non-JuliaImages)"
   ]
  },
  {
   "cell_type": "markdown",
   "metadata": {
    "slideshow": {
     "slide_type": "slide"
    }
   },
   "source": [
    "### 1.1.2 JuliaImages的决定"
   ]
  },
  {
   "cell_type": "markdown",
   "metadata": {
    "slideshow": {
     "slide_type": "fragment"
    }
   },
   "source": [
    "> 矩阵元素即像素"
   ]
  },
  {
   "cell_type": "code",
   "execution_count": 8,
   "metadata": {
    "slideshow": {
     "slide_type": "subslide"
    }
   },
   "outputs": [
    {
     "data": {
      "image/png": "[encoded data removed]",
      "text/plain": [
       "2×2 Array{RGB{Float64},2} with eltype RGB{Float64}:\n",
       " RGB{Float64}(0.662682,0.678843,0.8913)      …  RGB{Float64}(0.201978,0.0774998,0.636221)\n",
       " RGB{Float64}(0.0547286,0.0845224,0.781113)     RGB{Float64}(0.523619,0.403698,0.681876) "
      ]
     },
     "execution_count": 8,
     "metadata": {},
     "output_type": "execute_result"
    }
   ],
   "source": [
    "img = rand(RGB, 2, 2)"
   ]
  },
  {
   "cell_type": "code",
   "execution_count": 9,
   "metadata": {},
   "outputs": [
    {
     "data": {
      "text/plain": [
       "RGB{Float64}"
      ]
     },
     "execution_count": 9,
     "metadata": {},
     "output_type": "execute_result"
    }
   ],
   "source": [
    "eltype(ans)"
   ]
  },
  {
   "cell_type": "code",
   "execution_count": 10,
   "metadata": {
    "slideshow": {
     "slide_type": "subslide"
    }
   },
   "outputs": [
    {
     "data": {
      "image/png": "[encoded data removed]",
      "text/plain": [
       "2×2 Array{HSV{Float64},2} with eltype HSV{Float64}:\n",
       " HSV{Float64}(235.759,0.256499,0.8913)    …  HSV{Float64}(253.368,0.878187,0.636221)\n",
       " HSV{Float64}(237.539,0.929935,0.781113)     HSV{Float64}(265.866,0.407959,0.681876)"
      ]
     },
     "execution_count": 10,
     "metadata": {},
     "output_type": "execute_result"
    }
   ],
   "source": [
    "HSV.(img)"
   ]
  },
  {
   "cell_type": "code",
   "execution_count": 11,
   "metadata": {},
   "outputs": [
    {
     "data": {
      "text/plain": [
       "HSV{Float64}"
      ]
     },
     "execution_count": 11,
     "metadata": {},
     "output_type": "execute_result"
    }
   ],
   "source": [
    "eltype(ans)"
   ]
  },
  {
   "cell_type": "code",
   "execution_count": 12,
   "metadata": {
    "slideshow": {
     "slide_type": "subslide"
    }
   },
   "outputs": [
    {
     "data": {
      "image/png": "[encoded data removed]",
      "text/plain": [
       "2×2 Array{Lab{Float64},2} with eltype Lab{Float64}:\n",
       " Lab{Float64}(72.1758,10.2721,-27.6556)  …  Lab{Float64}(23.0853,52.2586,-69.0823)\n",
       " Lab{Float64}(26.1001,60.6016,-86.1989)     Lab{Float64}(49.2155,26.9447,-33.4164)"
      ]
     },
     "execution_count": 12,
     "metadata": {},
     "output_type": "execute_result"
    }
   ],
   "source": [
    "Lab.(img)"
   ]
  },
  {
   "cell_type": "code",
   "execution_count": 13,
   "metadata": {},
   "outputs": [
    {
     "data": {
      "text/plain": [
       "Lab{Float64}"
      ]
     },
     "execution_count": 13,
     "metadata": {},
     "output_type": "execute_result"
    }
   ],
   "source": [
    "eltype(ans)"
   ]
  },
  {
   "cell_type": "code",
   "execution_count": 14,
   "metadata": {
    "slideshow": {
     "slide_type": "subslide"
    }
   },
   "outputs": [
    {
     "data": {
      "image/png": "[encoded data removed]",
      "text/plain": [
       "2×2 Array{Gray{Float64},2} with eltype Gray{Float64}:\n",
       " Gray{Float64}(0.698231)  Gray{Float64}(0.178413)\n",
       " Gray{Float64}(0.155025)  Gray{Float64}(0.471267)"
      ]
     },
     "execution_count": 14,
     "metadata": {},
     "output_type": "execute_result"
    }
   ],
   "source": [
    "Gray.(img)"
   ]
  },
  {
   "cell_type": "code",
   "execution_count": 15,
   "metadata": {},
   "outputs": [
    {
     "data": {
      "text/plain": [
       "Gray{Float64}"
      ]
     },
     "execution_count": 15,
     "metadata": {},
     "output_type": "execute_result"
    }
   ],
   "source": [
    "eltype(ans)"
   ]
  },
  {
   "cell_type": "code",
   "execution_count": 16,
   "metadata": {
    "slideshow": {
     "slide_type": "subslide"
    }
   },
   "outputs": [
    {
     "data": {
      "text/plain": [
       "3×3×3 Array{Gray{Float64},3} with eltype Gray{Float64}:\n",
       "[:, :, 1] =\n",
       " Gray{Float64}(0.200295)  Gray{Float64}(0.742935)  Gray{Float64}(0.100768) \n",
       " Gray{Float64}(0.455829)  Gray{Float64}(0.2204)    Gray{Float64}(0.033329) \n",
       " Gray{Float64}(0.179783)  Gray{Float64}(0.444437)  Gray{Float64}(0.0497722)\n",
       "\n",
       "[:, :, 2] =\n",
       " Gray{Float64}(0.122299)  Gray{Float64}(0.524446)  Gray{Float64}(0.129994)\n",
       " Gray{Float64}(0.982783)  Gray{Float64}(0.131367)  Gray{Float64}(0.408896)\n",
       " Gray{Float64}(0.667697)  Gray{Float64}(0.130427)  Gray{Float64}(0.128194)\n",
       "\n",
       "[:, :, 3] =\n",
       " Gray{Float64}(0.014261)  Gray{Float64}(0.835086)  Gray{Float64}(0.726078)\n",
       " Gray{Float64}(0.133558)  Gray{Float64}(0.122035)  Gray{Float64}(0.547624)\n",
       " Gray{Float64}(0.447273)  Gray{Float64}(0.863369)  Gray{Float64}(0.067862)"
      ]
     },
     "execution_count": 16,
     "metadata": {},
     "output_type": "execute_result"
    }
   ],
   "source": [
    "img = rand(Gray, 3, 3, 3)"
   ]
  },
  {
   "cell_type": "code",
   "execution_count": 17,
   "metadata": {
    "slideshow": {
     "slide_type": "subslide"
    }
   },
   "outputs": [
    {
     "data": {
      "text/plain": [
       "3-dimensional AxisArray{Gray{Float64},3,...} with axes:\n",
       "    :width, Base.OneTo(3)\n",
       "    :height, Base.OneTo(3)\n",
       "    :depth, Base.OneTo(3)\n",
       "And data, a 3×3×3 Array{Gray{Float64},3} with eltype Gray{Float64}:\n",
       "[:, :, 1] =\n",
       " Gray{Float64}(0.200295)  Gray{Float64}(0.742935)  Gray{Float64}(0.100768) \n",
       " Gray{Float64}(0.455829)  Gray{Float64}(0.2204)    Gray{Float64}(0.033329) \n",
       " Gray{Float64}(0.179783)  Gray{Float64}(0.444437)  Gray{Float64}(0.0497722)\n",
       "\n",
       "[:, :, 2] =\n",
       " Gray{Float64}(0.122299)  Gray{Float64}(0.524446)  Gray{Float64}(0.129994)\n",
       " Gray{Float64}(0.982783)  Gray{Float64}(0.131367)  Gray{Float64}(0.408896)\n",
       " Gray{Float64}(0.667697)  Gray{Float64}(0.130427)  Gray{Float64}(0.128194)\n",
       "\n",
       "[:, :, 3] =\n",
       " Gray{Float64}(0.014261)  Gray{Float64}(0.835086)  Gray{Float64}(0.726078)\n",
       " Gray{Float64}(0.133558)  Gray{Float64}(0.122035)  Gray{Float64}(0.547624)\n",
       " Gray{Float64}(0.447273)  Gray{Float64}(0.863369)  Gray{Float64}(0.067862)"
      ]
     },
     "execution_count": 17,
     "metadata": {},
     "output_type": "execute_result"
    }
   ],
   "source": [
    "AxisArray(img, :width, :height, :depth)"
   ]
  },
  {
   "cell_type": "code",
   "execution_count": 18,
   "metadata": {
    "slideshow": {
     "slide_type": "subslide"
    }
   },
   "outputs": [
    {
     "data": {
      "text/plain": [
       "3-dimensional AxisArray{Gray{Float64},3,...} with axes:\n",
       "    :width, Base.OneTo(3)\n",
       "    :height, Base.OneTo(3)\n",
       "    :frame, Base.OneTo(3)\n",
       "And data, a 3×3×3 Array{Gray{Float64},3} with eltype Gray{Float64}:\n",
       "[:, :, 1] =\n",
       " Gray{Float64}(0.200295)  Gray{Float64}(0.742935)  Gray{Float64}(0.100768) \n",
       " Gray{Float64}(0.455829)  Gray{Float64}(0.2204)    Gray{Float64}(0.033329) \n",
       " Gray{Float64}(0.179783)  Gray{Float64}(0.444437)  Gray{Float64}(0.0497722)\n",
       "\n",
       "[:, :, 2] =\n",
       " Gray{Float64}(0.122299)  Gray{Float64}(0.524446)  Gray{Float64}(0.129994)\n",
       " Gray{Float64}(0.982783)  Gray{Float64}(0.131367)  Gray{Float64}(0.408896)\n",
       " Gray{Float64}(0.667697)  Gray{Float64}(0.130427)  Gray{Float64}(0.128194)\n",
       "\n",
       "[:, :, 3] =\n",
       " Gray{Float64}(0.014261)  Gray{Float64}(0.835086)  Gray{Float64}(0.726078)\n",
       " Gray{Float64}(0.133558)  Gray{Float64}(0.122035)  Gray{Float64}(0.547624)\n",
       " Gray{Float64}(0.447273)  Gray{Float64}(0.863369)  Gray{Float64}(0.067862)"
      ]
     },
     "execution_count": 18,
     "metadata": {},
     "output_type": "execute_result"
    }
   ],
   "source": [
    "AxisArray(img, :width, :height, :frame)"
   ]
  },
  {
   "cell_type": "code",
   "execution_count": 19,
   "metadata": {
    "slideshow": {
     "slide_type": "subslide"
    }
   },
   "outputs": [
    {
     "data": {
      "text/plain": [
       "3-dimensional AxisArray{Gray{Float64},3,...} with axes:\n",
       "    :width, Base.OneTo(3)\n",
       "    :height, Base.OneTo(3)\n",
       "    :time, Base.OneTo(3)\n",
       "And data, a 3×3×3 Array{Gray{Float64},3} with eltype Gray{Float64}:\n",
       "[:, :, 1] =\n",
       " Gray{Float64}(0.200295)  Gray{Float64}(0.742935)  Gray{Float64}(0.100768) \n",
       " Gray{Float64}(0.455829)  Gray{Float64}(0.2204)    Gray{Float64}(0.033329) \n",
       " Gray{Float64}(0.179783)  Gray{Float64}(0.444437)  Gray{Float64}(0.0497722)\n",
       "\n",
       "[:, :, 2] =\n",
       " Gray{Float64}(0.122299)  Gray{Float64}(0.524446)  Gray{Float64}(0.129994)\n",
       " Gray{Float64}(0.982783)  Gray{Float64}(0.131367)  Gray{Float64}(0.408896)\n",
       " Gray{Float64}(0.667697)  Gray{Float64}(0.130427)  Gray{Float64}(0.128194)\n",
       "\n",
       "[:, :, 3] =\n",
       " Gray{Float64}(0.014261)  Gray{Float64}(0.835086)  Gray{Float64}(0.726078)\n",
       " Gray{Float64}(0.133558)  Gray{Float64}(0.122035)  Gray{Float64}(0.547624)\n",
       " Gray{Float64}(0.447273)  Gray{Float64}(0.863369)  Gray{Float64}(0.067862)"
      ]
     },
     "execution_count": 19,
     "metadata": {},
     "output_type": "execute_result"
    }
   ],
   "source": [
    "AxisArray(img, :width, :height, :time)"
   ]
  },
  {
   "cell_type": "code",
   "execution_count": 20,
   "metadata": {
    "scrolled": true,
    "slideshow": {
     "slide_type": "subslide"
    }
   },
   "outputs": [
    {
     "data": {
      "text/plain": [
       "3-dimensional AxisArray{Gray{Float64},3,...} with axes:\n",
       "    :width, Base.OneTo(3)\n",
       "    :height, Base.OneTo(3)\n",
       "    :slice, Base.OneTo(3)\n",
       "And data, a 3×3×3 Array{Gray{Float64},3} with eltype Gray{Float64}:\n",
       "[:, :, 1] =\n",
       " Gray{Float64}(0.200295)  Gray{Float64}(0.742935)  Gray{Float64}(0.100768) \n",
       " Gray{Float64}(0.455829)  Gray{Float64}(0.2204)    Gray{Float64}(0.033329) \n",
       " Gray{Float64}(0.179783)  Gray{Float64}(0.444437)  Gray{Float64}(0.0497722)\n",
       "\n",
       "[:, :, 2] =\n",
       " Gray{Float64}(0.122299)  Gray{Float64}(0.524446)  Gray{Float64}(0.129994)\n",
       " Gray{Float64}(0.982783)  Gray{Float64}(0.131367)  Gray{Float64}(0.408896)\n",
       " Gray{Float64}(0.667697)  Gray{Float64}(0.130427)  Gray{Float64}(0.128194)\n",
       "\n",
       "[:, :, 3] =\n",
       " Gray{Float64}(0.014261)  Gray{Float64}(0.835086)  Gray{Float64}(0.726078)\n",
       " Gray{Float64}(0.133558)  Gray{Float64}(0.122035)  Gray{Float64}(0.547624)\n",
       " Gray{Float64}(0.447273)  Gray{Float64}(0.863369)  Gray{Float64}(0.067862)"
      ]
     },
     "execution_count": 20,
     "metadata": {},
     "output_type": "execute_result"
    }
   ],
   "source": [
    "AxisArray(img, :width, :height, :slice)"
   ]
  },
  {
   "cell_type": "markdown",
   "metadata": {
    "slideshow": {
     "slide_type": "slide"
    }
   },
   "source": [
    "## 1.2 统一算法框架"
   ]
  },
  {
   "cell_type": "markdown",
   "metadata": {
    "slideshow": {
     "slide_type": "subslide"
    }
   },
   "source": [
    "### 1.2.1 现状\n",
    "\n",
    "* 图像处理工具箱很大程度上就是算法的集合\n",
    "* 算法与API的耦合过于紧密"
   ]
  },
  {
   "cell_type": "markdown",
   "metadata": {
    "slideshow": {
     "slide_type": "fragment"
    }
   },
   "source": [
    "* `psnr(src_img, ref_img, peak_val)`"
   ]
  },
  {
   "cell_type": "markdown",
   "metadata": {
    "slideshow": {
     "slide_type": "fragment"
    }
   },
   "source": [
    "* `foo(src_img, ref_img, peak_val)`"
   ]
  },
  {
   "cell_type": "markdown",
   "metadata": {
    "slideshow": {
     "slide_type": "fragment"
    }
   },
   "source": [
    "* `foo(x, y, args...)`"
   ]
  },
  {
   "cell_type": "markdown",
   "metadata": {
    "slideshow": {
     "slide_type": "subslide"
    }
   },
   "source": [
    "### 1.2.2 JuliaImages 的决定\n",
    "\n",
    "* 每一个算法都是一个具体的结构struct\n",
    "* 每一个算法特定的信息都存储在该结构中\n",
    "\n",
    "For example:"
   ]
  },
  {
   "cell_type": "markdown",
   "metadata": {
    "scrolled": false,
    "slideshow": {
     "slide_type": "-"
    }
   },
   "source": [
    "```julia\n",
    "denoise([T::Type,] src_img, alg::DenoisingAlgorithm)\n",
    "denoise!(out, src_img, alg::DenoisingALgorithm)\n",
    "```"
   ]
  },
  {
   "cell_type": "code",
   "execution_count": 21,
   "metadata": {
    "slideshow": {
     "slide_type": "subslide"
    }
   },
   "outputs": [],
   "source": [
    "src_img = testimage(\"cameraman\");\n",
    "ref_img = testimage(\"lena_gray_512\");"
   ]
  },
  {
   "cell_type": "code",
   "execution_count": 22,
   "metadata": {
    "slideshow": {
     "slide_type": "-"
    }
   },
   "outputs": [
    {
     "data": {
      "text/plain": [
       "11.103267f0"
      ]
     },
     "execution_count": 22,
     "metadata": {},
     "output_type": "execute_result"
    }
   ],
   "source": [
    "psnr(src_img, ref_img) # usage 1"
   ]
  },
  {
   "cell_type": "code",
   "execution_count": 23,
   "metadata": {
    "slideshow": {
     "slide_type": "-"
    }
   },
   "outputs": [
    {
     "data": {
      "text/plain": [
       "11.103267f0"
      ]
     },
     "execution_count": 23,
     "metadata": {},
     "output_type": "execute_result"
    }
   ],
   "source": [
    "index = PSNR()\n",
    "assess(index, src_img, ref_img) # usage 2"
   ]
  },
  {
   "cell_type": "code",
   "execution_count": 24,
   "metadata": {
    "slideshow": {
     "slide_type": "-"
    }
   },
   "outputs": [
    {
     "data": {
      "text/plain": [
       "11.103267f0"
      ]
     },
     "execution_count": 24,
     "metadata": {},
     "output_type": "execute_result"
    }
   ],
   "source": [
    "index(src_img, ref_img) # usage 3"
   ]
  },
  {
   "cell_type": "markdown",
   "metadata": {
    "slideshow": {
     "slide_type": "subslide"
    }
   },
   "source": [
    "#### 1.2.2.1 接口设计"
   ]
  },
  {
   "cell_type": "code",
   "execution_count": 25,
   "metadata": {},
   "outputs": [
    {
     "data": {
      "text/plain": [
       "imdenoise (generic function with 2 methods)"
      ]
     },
     "execution_count": 25,
     "metadata": {},
     "output_type": "execute_result"
    }
   ],
   "source": [
    "abstract type ImageAlgorithm end\n",
    "abstract type ImageDenoisingFilter <: ImageAlgorithm end\n",
    "\n",
    "function imdenoise(::Type{T},\n",
    "                   src::AbstractArray,\n",
    "                   alg::ImageDenoisingFilter) where T\n",
    "    out = Array{T}(undef, size(src))\n",
    "    alg(out, src)\n",
    "end\n",
    "function imdenoise(src::AbstractArray,\n",
    "                   alg::ImageDenoisingFilter)\n",
    "    imdenoise(eltype(src), src, alg)\n",
    "end"
   ]
  },
  {
   "cell_type": "markdown",
   "metadata": {
    "slideshow": {
     "slide_type": "subslide"
    }
   },
   "source": [
    "#### 1.2.2.2 实现设计"
   ]
  },
  {
   "cell_type": "code",
   "execution_count": 26,
   "metadata": {},
   "outputs": [],
   "source": [
    "\"\"\" Dummy image denoiser that does nothing\"\"\"\n",
    "struct DummyDenoiser <: ImageDenoisingFilter\n",
    "    repeat\n",
    "end\n",
    "\n",
    "function (alg::DummyDenoiser)(out, src)\n",
    "    for i in range(1, stop=alg.repeat)\n",
    "        println(\"Iter $(i): Okay, got src denoised :D\")\n",
    "    end\n",
    "    out .= src\n",
    "end"
   ]
  },
  {
   "cell_type": "code",
   "execution_count": 27,
   "metadata": {
    "slideshow": {
     "slide_type": "subslide"
    }
   },
   "outputs": [
    {
     "name": "stdout",
     "output_type": "stream",
     "text": [
      "Iter 1: Okay, got src denoised :D\n",
      "Iter 2: Okay, got src denoised :D\n",
      "Iter 3: Okay, got src denoised :D\n",
      "Iter 4: Okay, got src denoised :D\n",
      "Iter 5: Okay, got src denoised :D\n"
     ]
    },
    {
     "data": {
      "text/plain": [
       "3×3 Array{Float64,2}:\n",
       " 0.847528  0.0665198  0.760806\n",
       " 0.821276  0.105887   0.603834\n",
       " 0.995517  0.808367   0.502265"
      ]
     },
     "execution_count": 27,
     "metadata": {},
     "output_type": "execute_result"
    }
   ],
   "source": [
    "alg = DummyDenoiser(5)\n",
    "imdenoise(rand(3, 3), alg)"
   ]
  },
  {
   "cell_type": "markdown",
   "metadata": {
    "slideshow": {
     "slide_type": "subslide"
    }
   },
   "source": [
    "每一次调用算法都需要重建一个新的算法实例 -- 对于non-trivial算法而言，这个开销是可接受的\n",
    "\n",
    "已经采用这种设计的库：\n",
    "\n",
    "* 二值化算法库 `ImageBinarization.jl`: https://github.com/zygmuntszpak/ImageBinarization.jl\n",
    "* 图像质量评价 `ImageQualityIndexes.jl`: https://github.com/JuliaImages/ImageQualityIndexes.jl\n",
    "\n",
    "关于该设计的一篇博客：https://nextjournal.com/johnnychen94/the-principles-of-imagesjl-part-i"
   ]
  },
  {
   "cell_type": "markdown",
   "metadata": {
    "slideshow": {
     "slide_type": "slide"
    }
   },
   "source": [
    "## JuliaImages 总结"
   ]
  },
  {
   "cell_type": "markdown",
   "metadata": {
    "slideshow": {
     "slide_type": "subslide"
    }
   },
   "source": [
    "接下来：\n",
    "\n",
    "- [x] 底层设计\n",
    "- [ ] 统一API接口 (统一计算设备)\n",
    "- [ ] 填充算法库\n",
    "- [ ] Tutorials/Demos\n",
    "- [ ] Benchmarking\n",
    "- [ ] 载入加速\n",
    "- [ ] OpenCV wrapper\n",
    "- [ ] GUI\n",
    "\n",
    "Nice to have:\n",
    "\n",
    "* 整合Flux.jl"
   ]
  },
  {
   "cell_type": "code",
   "execution_count": null,
   "metadata": {},
   "outputs": [],
   "source": []
  }
 ],
 "metadata": {
  "@webio": {
   "lastCommId": null,
   "lastKernelId": null
  },
  "celltoolbar": "幻灯片",
  "kernelspec": {
   "display_name": "Julia 1.2.0",
   "language": "julia",
   "name": "julia-1.2"
  },
  "language_info": {
   "file_extension": ".jl",
   "mimetype": "application/julia",
   "name": "julia",
   "version": "1.2.0"
  }
 },
 "nbformat": 4,
 "nbformat_minor": 2
}
