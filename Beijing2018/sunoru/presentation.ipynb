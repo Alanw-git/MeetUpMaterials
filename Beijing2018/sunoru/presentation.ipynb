{
 "cells": [
  {
   "cell_type": "markdown",
   "metadata": {
    "slideshow": {
     "slide_type": "slide"
    }
   },
   "source": [
    "# Julia 编程实践\n",
    "\n",
    "### 2018年7月29日 北京"
   ]
  },
  {
   "cell_type": "markdown",
   "metadata": {
    "slideshow": {
     "slide_type": "slide"
    }
   },
   "source": [
    "## 关于我\n",
    "\n",
    "- 斯大卫\n",
    "- スノル\n",
    "- 浙江大学 化学系\n",
    "- 三年 Julia 经验\n",
    "- GitHub ID: sunoru\n",
    "- Email: s@sunoru.com"
   ]
  },
  {
   "cell_type": "markdown",
   "metadata": {
    "slideshow": {
     "slide_type": "slide"
    }
   },
   "source": [
    "## 目录\n",
    "\n",
    "1. GSoC 2016，RandomNumbers.jl，VSL.jl\n",
    "2. 浙江大学镜像站，Mirrors.jl\n",
    "3. 一些小项目，比如 LocalMemoize.jl"
   ]
  },
  {
   "cell_type": "markdown",
   "metadata": {
    "slideshow": {
     "slide_type": "slide"
    }
   },
   "source": [
    "## Google Summer of Code 2016"
   ]
  },
  {
   "cell_type": "markdown",
   "metadata": {},
   "source": [
    "- RandomNumbers.jl\n",
    "- VSL.jl"
   ]
  },
  {
   "cell_type": "markdown",
   "metadata": {
    "slideshow": {
     "slide_type": "slide"
    }
   },
   "source": [
    "## TestU01 Big Crush\n",
    "\n",
    "![](./images/big_crush.jpg)"
   ]
  },
  {
   "cell_type": "markdown",
   "metadata": {
    "slideshow": {
     "slide_type": "subslide"
    }
   },
   "source": [
    "## 存储空间比较\n",
    "\n",
    "![](./images/rng_space_usage.jpg)"
   ]
  },
  {
   "cell_type": "markdown",
   "metadata": {
    "slideshow": {
     "slide_type": "slide"
    }
   },
   "source": [
    "## RandomNumbers.jl\n",
    "\n",
    "- PCG: 一类基于线性同余生成器的 RNG。它在线性同余算法的基础上加了一个 permute 操作，以产生更随机的输出。\n",
    "- Mersenne Twister: 最常用的 RNG，有很长的周期（$2^{19937} -1$）\n",
    "- Random123: 一组高性能基于计数器的 RNG。\n",
    "- Xorshift: 一类基于异或和位移的 RNG。"
   ]
  },
  {
   "cell_type": "markdown",
   "metadata": {
    "slideshow": {
     "slide_type": "subslide"
    }
   },
   "source": [
    "## RandomNumbers.jl"
   ]
  },
  {
   "cell_type": "code",
   "execution_count": 6,
   "metadata": {},
   "outputs": [
    {
     "data": {
      "text/plain": [
       "(0x0bba8dd050fc756e, 0xb05f8c8b1847359d)"
      ]
     },
     "execution_count": 6,
     "metadata": {},
     "output_type": "execute_result"
    }
   ],
   "source": [
    "using RandomNumbers\n",
    "seed = RandomNumbers.gen_seed(UInt64, 2)"
   ]
  },
  {
   "cell_type": "code",
   "execution_count": 8,
   "metadata": {},
   "outputs": [
    {
     "data": {
      "text/plain": [
       "RandomNumbers.Random123.Philox4x{UInt64,10}(0xc3fec7439b2ede9d, 0x4b3d8390502c2d78, 0xeeb08b4834317bb2, 0xbe926e56b112e588, 0xf51a51da5265160f, 0x73f640e4a83e7686, 0x0000000000000000, 0x0000000000000000, 0x0000000000000000, 0x0000000000000000, 0)"
      ]
     },
     "execution_count": 8,
     "metadata": {},
     "output_type": "execute_result"
    }
   ],
   "source": [
    "using RandomNumbers.Random123\n",
    "r = Philox4x()  # will output UInt64 by default, and two seed integers are truly randomly produced."
   ]
  },
  {
   "cell_type": "code",
   "execution_count": 9,
   "metadata": {},
   "outputs": [
    {
     "data": {
      "text/plain": [
       "RandomNumbers.Random123.Philox4x{UInt64,10}(0x41dc70a3a8959932, 0x6250d99565431946, 0x9d1fb3d09c6e1223, 0x86a2d67ca2f0c2c6, 0x0bba8dd050fc756e, 0xb05f8c8b1847359d, 0x0000000000000000, 0x0000000000000000, 0x0000000000000000, 0x0000000000000000, 0)"
      ]
     },
     "execution_count": 9,
     "metadata": {},
     "output_type": "execute_result"
    }
   ],
   "source": [
    "r = Philox4x(seed)  # specify the seed."
   ]
  },
  {
   "cell_type": "code",
   "execution_count": 12,
   "metadata": {},
   "outputs": [
    {
     "data": {
      "text/plain": [
       "RandomNumbers.Random123.Philox4x{UInt32,10}(0xa2f323cd, 0x8a3e456c, 0xbe04724c, 0xb4212c19, 0x50fc756e, 0x1847359d, 0x00000000, 0x00000000, 0x00000000, 0x00000000, 0)"
      ]
     },
     "execution_count": 12,
     "metadata": {},
     "output_type": "execute_result"
    }
   ],
   "source": [
    "r = Philox4x(UInt32, seed)  # specify both the output type and seed."
   ]
  },
  {
   "cell_type": "code",
   "execution_count": 14,
   "metadata": {
    "slideshow": {
     "slide_type": "-"
    }
   },
   "outputs": [
    {
     "data": {
      "text/plain": [
       "(0xa2f323cd, 0x8a3e456c, 0xbe04724c, 0xb4212c19)"
      ]
     },
     "execution_count": 14,
     "metadata": {},
     "output_type": "execute_result"
    }
   ],
   "source": [
    "rand(r, NTuple{4, UInt32})"
   ]
  },
  {
   "cell_type": "markdown",
   "metadata": {
    "slideshow": {
     "slide_type": "subslide"
    }
   },
   "source": [
    "## RandomNumbers.jl"
   ]
  },
  {
   "cell_type": "code",
   "execution_count": 15,
   "metadata": {},
   "outputs": [
    {
     "data": {
      "text/plain": [
       "4-element Array{UInt32,1}:\n",
       " 0x034dea1a\n",
       " 0x4addb916\n",
       " 0xca108140\n",
       " 0x7c05324c"
      ]
     },
     "execution_count": 15,
     "metadata": {},
     "output_type": "execute_result"
    }
   ],
   "source": [
    "set_counter!(r, 123)  # update the counter manually.\n",
    "rand(r, UInt32, 4)"
   ]
  },
  {
   "cell_type": "code",
   "execution_count": 16,
   "metadata": {},
   "outputs": [
    {
     "data": {
      "text/plain": [
       "4-element Array{UInt32,1}:\n",
       " 0xa2f323cd\n",
       " 0x8a3e456c\n",
       " 0xbe04724c\n",
       " 0xb4212c19"
      ]
     },
     "execution_count": 16,
     "metadata": {},
     "output_type": "execute_result"
    },
    {
     "name": "stderr",
     "output_type": "stream",
     "text": [
      "WARNING: both RandomNumbers and Base export \"AbstractRNG\"; uses of it in module Main must be qualified\n"
     ]
    }
   ],
   "source": [
    "set_counter!(r, 0)\n",
    "rand(r, UInt32, 4)"
   ]
  },
  {
   "cell_type": "markdown",
   "metadata": {
    "slideshow": {
     "slide_type": "subslide"
    }
   },
   "source": [
    "## 速度测试\n",
    "![](./images/speed_test.svg)"
   ]
  },
  {
   "cell_type": "markdown",
   "metadata": {
    "slideshow": {
     "slide_type": "subslide"
    }
   },
   "source": [
    "## 速度测试\n",
    "![](./images/speed_test_table.png)"
   ]
  },
  {
   "cell_type": "markdown",
   "metadata": {
    "slideshow": {
     "slide_type": "subslide"
    }
   },
   "source": [
    "## Big Crush 测试\n",
    "![](./images/big_crush_table.PNG)"
   ]
  },
  {
   "cell_type": "markdown",
   "metadata": {
    "slideshow": {
     "slide_type": "subslide"
    }
   },
   "source": [
    "## Conversion to Float\n",
    "\n",
    "- Float 只有 53 significant bits。\n",
    "- `std::uniform_real_distribution` in libstdc++ from gcc, libc++ from llvm, MSVC 都有机会生成 1.0。（本应该是$[0.0, 1.0)$"
   ]
  },
  {
   "cell_type": "code",
   "execution_count": 2,
   "metadata": {},
   "outputs": [],
   "source": [
    "Base.rand(rng, ::Type{Float64}) = reinterpret(Float64, Base.exponent_one(Float64) | rand_ui52(rng)) - 1.0"
   ]
  },
  {
   "cell_type": "markdown",
   "metadata": {
    "slideshow": {
     "slide_type": "slide"
    }
   },
   "source": [
    "## GSoC 参与条件\n",
    "\n",
    "https://developers.google.com/open-source/gsoc/faq#what_are_the_eligibility_requirements_for_participation"
   ]
  },
  {
   "cell_type": "markdown",
   "metadata": {
    "slideshow": {
     "slide_type": "fragment"
    }
   },
   "source": [
    "- 年龄满十八岁"
   ]
  },
  {
   "cell_type": "markdown",
   "metadata": {
    "slideshow": {
     "slide_type": "fragment"
    }
   },
   "source": [
    "- 在 Proposals 发布时必须是大学生（本科生、硕士生、博士生均可，刚被录取的也可）"
   ]
  },
  {
   "cell_type": "markdown",
   "metadata": {
    "slideshow": {
     "slide_type": "fragment"
    }
   },
   "source": [
    "- 在所居住的国家有工作资格。\n",
    "- 已经超过一次作为学生参加 GSoC。\n",
    "- 没有住在被美国禁运的国家。"
   ]
  },
  {
   "cell_type": "markdown",
   "metadata": {
    "slideshow": {
     "slide_type": "slide"
    }
   },
   "source": [
    "## GSoC 准备阶段\n",
    "\n",
    "| 时间 | 事件 |\n",
    "| :---- | :----- |\n",
    "| 13 October, 2015 | Program announced. |\n",
    "| 8 February, 2016 19:00 UTC | Mentoring organizations can begin submitting applications to Google. |\n",
    "| 19 February 19:00 UTC | Mentoring organization application deadline. |\n",
    "| 20 February - 26 February | Google program administrators review organization applications. |\n",
    "| 29 February 19:00 UTC | List of accepted mentoring organizations published on the Google Summer of Code 2016 site. |\n",
    "| 29 February - 13 March | Would-be student participants discuss application ideas with mentoring organizations. |\n",
    "| 14 March 19:00 UTC | Student application period opens. |\n",
    "| 25 March 19:00 UTC | Student application deadline. |"
   ]
  },
  {
   "cell_type": "markdown",
   "metadata": {
    "slideshow": {
     "slide_type": "-"
    }
   },
   "source": [
    "## GSoC 准备阶段\n",
    "\n",
    "- Discourse: https://discourse.julialang.org/\n",
    "- GitHub Issues: https://github.com/JuliaLang/julia/issues\n",
    "- Slack: https://julialang.slack.com"
   ]
  },
  {
   "cell_type": "markdown",
   "metadata": {
    "slideshow": {
     "slide_type": "subslide"
    }
   },
   "source": [
    "## GSoC 项目选择\n",
    "\n",
    "https://julialang.org/soc/ideas-page.html\n",
    "\n",
    "- Data Science & Machine Learning – work on making data work for you and everyone else.\n",
    "- Compiler – work on the Julia compiler’s internals to make things better for everyone.\n",
    "- HPC – write code that runs on lots of machines, goes really fast, processes lots of data, or all three.\n",
    "- Numerics – Challenges for the hard–core number-cruncher, including linear algebra routines and basic mathematical functions.\n",
    "- Differential Equations - Numerical methods for high-performance solving of differential equation models\n",
    "- Tooling – The projects that make the people that make Julia go, go. Help us make a really amazing IDE!\n",
    "- Images – extend Julia’s suite of tools for visualization and analysis of images.\n",
    "- Audio and DSP – improve Julia’s analysis, processing, and synthesis packages for audio and more general digital signal processing.\n",
    "- General – jack-of-all-trades projects that don’t require special skills.\n",
    "- Graphics - projects ranging from low level OpenGL rendering to high level plotting"
   ]
  },
  {
   "cell_type": "markdown",
   "metadata": {
    "slideshow": {
     "slide_type": "subslide"
    }
   },
   "source": [
    "## GSoC Proposal\n",
    "\n",
    "https://julialang.org/soc/guidelines/\n",
    "\n",
    "- *联系导师*：与 Mentor 讨论。我的项目 Mentor 是 Dr. Simon Byrne。\n",
    "- 关于项目\n",
    "    - 准备做些什么？实现靠谱的随机数生成器。\n",
    "    - 有什么意义？几乎所有 Julia 用户都能受益，尤其是做依赖大量随机数的计算的人。\n",
    "    - 可能会遇到的问题？我对 RNG 不够了解，所以要多做一些来比较。\n",
    "    - 分清楚项目各部分优先度？robustness、 functionality、 performance、 documentation、API usability、 others 排个序\n",
    "    - Milestones？1/4，1/4~3/4，最后1/4\n",
    "    - 有什么可以让项目出彩的主意？并行友好。\n",
    "- 代码展示\n",
    "    - VSL.jl\n",
    "    - julia-icc-travis\n",
    "- 成果\n",
    "- 关于我\n",
    "    - 学化学的，很喜欢开源。\n",
    "- Logistics\n",
    "    - 6 月有期末考试"
   ]
  },
  {
   "cell_type": "markdown",
   "metadata": {
    "slideshow": {
     "slide_type": "subslide"
    }
   },
   "source": [
    "## GSoC 时间表\n",
    "\n",
    "| 时间 | 事件 |\n",
    "| --- | --- |\n",
    "| 22 April 16:00 UTC | Accepted student proposals announced on the Google Summer of Code 2016 site. |\n",
    "| Community Bonding Period | Students get to know mentors, read documentation, get up to speed to begin working on their projects. |\n",
    "| 23 May | Students begin coding for their Google Summer of Code projects; Google begins issuing initial student payments provided tax forms are on file and students are in good standing with their communities. |\n",
    "| Work Period | Mentors give students a helping hand and guidance on their projects. |\n",
    "| 20 June 19:00 UTC | Mentors and students can begin submitting mid-term evaluations. | \n",
    "| 27 June 19:00 UTC | Mid-term evaluations deadline; Google begins issuing mid-term student payments provided passing student survey is on file. |\n",
    "| Work Period | Mentors give students a helping hand and guidance on their projects. |\n",
    "| 15 August - 23 August 19:00 UTC | Final week: Students tidy code, write tests, improve documentation and submit their code sample. Students also submit their final mentor evaluation. |"
   ]
  },
  {
   "cell_type": "markdown",
   "metadata": {
    "slideshow": {
     "slide_type": "subslide"
    }
   },
   "source": [
    "## GSoC 工作时间\n",
    "\n",
    "- 交流\n",
    "    - 加入了 GSoC 专用的 Slack 频道，与 Mentor 和其他的学生和社区的核心成员们在上面交流。\n",
    "    - 与其他学生一起在 Google Hangouts 上相互认识了一下，但后来由于网络关系我就没怎么去了。\n",
    "    - 每周跟 Mentor 定时汇报。\n",
    "- 工作\n",
    "    - 写代码的时候要写测试\n",
    "    - 用 GitHub Issues 管理项目中的问题，甚至 Milestones 也可以。\n",
    "    - 学习一下 Documenter.jl，详细地把文档写好"
   ]
  },
  {
   "cell_type": "markdown",
   "metadata": {
    "slideshow": {
     "slide_type": "slide"
    }
   },
   "source": [
    "## GSoC 含金量\n",
    "\n",
    "- 时间安排和工作模式：比参加公司实习轻松灵活得多。\n",
    "- 报酬：当年是 \\$5500，现在听说是 \\$3600 左右。\n",
    "- 个人成长：除了是代码技术提升，至少英语交流能力和做好完整项目的能力也会得到锻炼。一般来说还会有别的收获。"
   ]
  },
  {
   "cell_type": "markdown",
   "metadata": {
    "slideshow": {
     "slide_type": "slide"
    }
   },
   "source": [
    "## 浙江大学开源镜像站 + Julia"
   ]
  },
  {
   "cell_type": "markdown",
   "metadata": {
    "slideshow": {
     "slide_type": "fragment"
    }
   },
   "source": [
    "- https://github.com/sunoru/julia-mirror\n",
    "    - 用脚本搭起镜像"
   ]
  },
  {
   "cell_type": "markdown",
   "metadata": {
    "slideshow": {
     "slide_type": "fragment"
    }
   },
   "source": [
    "- https://github.com/sunoru/Mirrors.jl\n",
    "    - 提供 PKG 用来代替标准库中的 Pkg"
   ]
  },
  {
   "cell_type": "markdown",
   "metadata": {
    "slideshow": {
     "slide_type": "fragment"
    }
   },
   "source": [
    "- https://mirrors.zju.edu.cn/julia/\n",
    "    - 现在就可以用的镜像站！"
   ]
  },
  {
   "cell_type": "markdown",
   "metadata": {
    "slideshow": {
     "slide_type": "slide"
    }
   },
   "source": [
    "## Mirrors.jl 安装\n",
    "\n",
    "由于这个库还没有被注册，或者说由于你用它的原因就是你不想通过 GitHub 下载。所以需要使用 clone 手动安装："
   ]
  },
  {
   "cell_type": "code",
   "execution_count": 24,
   "metadata": {
    "slideshow": {
     "slide_type": "-"
    }
   },
   "outputs": [
    {
     "name": "stderr",
     "output_type": "stream",
     "text": [
      "\u001b[1m\u001b[36mINFO: \u001b[39m\u001b[22m\u001b[36mCloning Mirrors from https://mirrors.zju.edu.cn/julia/Mirrors.jl.git\n",
      "\u001b[39m\u001b[1m\u001b[36mINFO: \u001b[39m\u001b[22m\u001b[36mComputing changes...\n",
      "\u001b[39m\u001b[1m\u001b[36mINFO: \u001b[39m\u001b[22m\u001b[36mNo packages to install, update or remove\n",
      "\u001b[39m"
     ]
    }
   ],
   "source": [
    "Pkg.clone(\"https://mirrors.zju.edu.cn/julia/Mirrors.jl.git\")"
   ]
  },
  {
   "cell_type": "markdown",
   "metadata": {
    "slideshow": {
     "slide_type": "slide"
    }
   },
   "source": [
    "## Mirrors.jl 使用\n",
    "\n",
    "第一次使用时，你需要手动设定 Mirror 的地址（你可以通过 `Mirrors.availables()` 查看，虽然目前也只有这么一个 Mirror）："
   ]
  },
  {
   "cell_type": "code",
   "execution_count": 1,
   "metadata": {},
   "outputs": [
    {
     "name": "stderr",
     "output_type": "stream",
     "text": [
      "\u001b[1m\u001b[36mINFO: \u001b[39m\u001b[22m\u001b[36mRecompiling stale cache file C:\\Users\\sunoru\\AppData\\Local\\JuliaPro-0.6.1.1\\pkgs-0.6.1.1\\lib\\v0.6\\Mirrors.ji for module Mirrors.\n",
      "\u001b[39m"
     ]
    },
    {
     "name": "stdout",
     "output_type": "stream",
     "text": [
      "String[\"ZJU\"]\n"
     ]
    }
   ],
   "source": [
    "import Mirrors\n",
    "println(Mirrors.availables())"
   ]
  },
  {
   "cell_type": "code",
   "execution_count": 2,
   "metadata": {},
   "outputs": [
    {
     "data": {
      "text/plain": [
       "Mirrors.Mirror(\"ZJU\", \"https://mirrors.zju.edu.cn/julia\")"
      ]
     },
     "execution_count": 2,
     "metadata": {},
     "output_type": "execute_result"
    }
   ],
   "source": [
    "Mirrors.setmirror(\"ZJU\")"
   ]
  },
  {
   "cell_type": "markdown",
   "metadata": {
    "slideshow": {
     "slide_type": "subslide"
    }
   },
   "source": [
    "## Mirrors.jl 使用"
   ]
  },
  {
   "cell_type": "markdown",
   "metadata": {
    "slideshow": {
     "slide_type": "-"
    }
   },
   "source": [
    "`Mirrors.jl` 为不同的 Julia 版本也提供不同的包管理器，0.6 是 `Pkg2`，0.7 是 `Pkg3`，你可以直接使用 `PKG` 这个模块名来进行操作。以 0.6 为例，初始化 METADATA："
   ]
  },
  {
   "cell_type": "code",
   "execution_count": 4,
   "metadata": {},
   "outputs": [
    {
     "name": "stderr",
     "output_type": "stream",
     "text": [
      "\u001b[1m\u001b[36mINFO: \u001b[39m\u001b[22m\u001b[36mInitializing package repository C:\\Users\\sunoru\\AppData\\Local\\JuliaPro-0.6.1.1\\pkgs-0.6.1.1\\v0.6\n",
      "\u001b[39m\u001b[1m\u001b[36mINFO: \u001b[39m\u001b[22m\u001b[36mPackage directory C:\\Users\\sunoru\\AppData\\Local\\JuliaPro-0.6.1.1\\pkgs-0.6.1.1\\v0.6 is already initialized. Set its remote to https://mirrors.zju.edu.cn/julia/metadata/METADATA.jl.git.\n",
      "\u001b[39m"
     ]
    }
   ],
   "source": [
    "PKG = Mirrors.PKG\n",
    "PKG.init()"
   ]
  },
  {
   "cell_type": "markdown",
   "metadata": {},
   "source": [
    "如果你已经用标准库中的 `Pkg` 安装过其它库，`Mirrors.jl` 在 Julia 0.6 中暂时不能同时处理两边安装的软件包，所以最好在一个全新安装的 Julia 中使用它。这个问题会在 Julia 1.0 出来之后解决。"
   ]
  },
  {
   "cell_type": "markdown",
   "metadata": {
    "slideshow": {
     "slide_type": "subslide"
    }
   },
   "source": [
    "## Mirrors.jl 使用\n",
    "\n",
    "安装一个库就和平时一样："
   ]
  },
  {
   "cell_type": "code",
   "execution_count": 5,
   "metadata": {},
   "outputs": [
    {
     "name": "stderr",
     "output_type": "stream",
     "text": [
      "\u001b[1m\u001b[36mINFO: \u001b[39m\u001b[22m\u001b[36mInstalling RandomNumbers v0.1.1\n",
      "\u001b[39m\u001b[1m\u001b[36mINFO: \u001b[39m\u001b[22m\u001b[36mBuilding RandomNumbers\n",
      "\u001b[39m"
     ]
    },
    {
     "name": "stdout",
     "output_type": "stream",
     "text": [
      "g++ -shared -fPIC -O3 -maes aesni.cpp ars.cpp -o librandom123.dll\r\n"
     ]
    },
    {
     "name": "stderr",
     "output_type": "stream",
     "text": [
      "aesni.cpp:1:0: warning: -fPIC ignored for target (all code is position independent)\n",
      " #include <wmmintrin.h>\n",
      " ^\n",
      "ars.cpp:1:0: warning: -fPIC ignored for target (all code is position independent)\n",
      " #include <wmmintrin.h>\n",
      " ^\n",
      "\u001b[1m\u001b[36mINFO: \u001b[39m\u001b[22m\u001b[36mPackage database updated\n",
      "\u001b[39m\u001b[1m\u001b[36mINFO: \u001b[39m\u001b[22m\u001b[36mMETADATA is out-of-date — you may not have the latest version of RandomNumbers\n",
      "\u001b[39m\u001b[1m\u001b[36mINFO: \u001b[39m\u001b[22m\u001b[36mUse `Pkg2.update()` to get the latest versions of your packages\n",
      "\u001b[39m"
     ]
    }
   ],
   "source": [
    "PKG.add(\"RandomNumbers\")"
   ]
  },
  {
   "cell_type": "code",
   "execution_count": 6,
   "metadata": {
    "slideshow": {
     "slide_type": "fragment"
    }
   },
   "outputs": [
    {
     "name": "stderr",
     "output_type": "stream",
     "text": [
      "\u001b[1m\u001b[36mINFO: \u001b[39m\u001b[22m\u001b[36mInstalling Compat v0.64.0\n",
      "\u001b[39m\u001b[1m\u001b[36mINFO: \u001b[39m\u001b[22m\u001b[36mInstalling DocStringExtensions v0.4.4\n",
      "\u001b[39m\u001b[1m\u001b[36mINFO: \u001b[39m\u001b[22m\u001b[36mInstalling Documenter v0.17.0\n",
      "\u001b[39m\u001b[1m\u001b[36mINFO: \u001b[39m\u001b[22m\u001b[36mPackage database updated\n",
      "\u001b[39m\u001b[1m\u001b[36mINFO: \u001b[39m\u001b[22m\u001b[36mMETADATA is out-of-date — you may not have the latest version of Documenter\n",
      "\u001b[39m\u001b[1m\u001b[36mINFO: \u001b[39m\u001b[22m\u001b[36mUse `Pkg2.update()` to get the latest versions of your packages\n",
      "\u001b[39m"
     ]
    }
   ],
   "source": [
    "PKG.add(\"Documenter\")"
   ]
  },
  {
   "cell_type": "markdown",
   "metadata": {
    "slideshow": {
     "slide_type": "subslide"
    }
   },
   "source": [
    "## Mirrors.jl 使用"
   ]
  },
  {
   "cell_type": "code",
   "execution_count": 7,
   "metadata": {
    "slideshow": {
     "slide_type": "-"
    }
   },
   "outputs": [
    {
     "name": "stderr",
     "output_type": "stream",
     "text": [
      "\u001b[1m\u001b[36mINFO: \u001b[39m\u001b[22m\u001b[36mUpdating METADATA...\n",
      "\u001b[39m\u001b[1m\u001b[33mWARNING: \u001b[39m\u001b[22m\u001b[33mCannot perform fast-forward merge.\u001b[39m\n",
      "\u001b[1m\u001b[36mINFO: \u001b[39m\u001b[22m\u001b[36mComputing changes...\n",
      "\u001b[39m\u001b[1m\u001b[36mINFO: \u001b[39m\u001b[22m\u001b[36mUpgrading Compat: v0.64.0 => v1.0.0\n",
      "\u001b[39m\u001b[1m\u001b[36mINFO: \u001b[39m\u001b[22m\u001b[36mUpgrading DocStringExtensions: v0.4.4 => v0.4.5\n",
      "\u001b[39m\u001b[1m\u001b[36mINFO: \u001b[39m\u001b[22m\u001b[36mUpgrading Documenter: v0.17.0 => v0.19.1\n",
      "\u001b[39m\u001b[1m\u001b[33mWARNING: \u001b[39m\u001b[22m\u001b[33mThe following packages have been updated but were already imported:\n",
      "- Compat\n",
      "Restart Julia to use the updated versions.\u001b[39m\n"
     ]
    }
   ],
   "source": [
    "PKG.update()"
   ]
  },
  {
   "cell_type": "code",
   "execution_count": 8,
   "metadata": {
    "slideshow": {
     "slide_type": "-"
    }
   },
   "outputs": [
    {
     "name": "stdout",
     "output_type": "stream",
     "text": [
      "Mirror: ZJU (https://mirrors.zju.edu.cn/julia)\n",
      "2 required packages:\n",
      " - Documenter                    0.19.1\n",
      " - RandomNumbers                 0.1.1\n",
      "2 additional packages:\n",
      " - Compat                        1.0.0\n",
      " - DocStringExtensions           0.4.5\n"
     ]
    }
   ],
   "source": [
    "PKG.status()"
   ]
  },
  {
   "cell_type": "markdown",
   "metadata": {
    "slideshow": {
     "slide_type": "subslide"
    }
   },
   "source": [
    "## Mirrors.jl 使用"
   ]
  },
  {
   "cell_type": "code",
   "execution_count": 9,
   "metadata": {
    "slideshow": {
     "slide_type": "-"
    }
   },
   "outputs": [
    {
     "name": "stderr",
     "output_type": "stream",
     "text": [
      "\u001b[1m\u001b[36mINFO: \u001b[39m\u001b[22m\u001b[36mRemoving Compat v1.0.0\n",
      "\u001b[39m\u001b[1m\u001b[36mINFO: \u001b[39m\u001b[22m\u001b[36mRemoving DocStringExtensions v0.4.5\n",
      "\u001b[39m\u001b[1m\u001b[36mINFO: \u001b[39m\u001b[22m\u001b[36mRemoving Documenter v0.19.1\n",
      "\u001b[39m\u001b[1m\u001b[36mINFO: \u001b[39m\u001b[22m\u001b[36mPackage database updated\n",
      "\u001b[39m"
     ]
    }
   ],
   "source": [
    "PKG.rm(\"Documenter\")"
   ]
  },
  {
   "cell_type": "code",
   "execution_count": 10,
   "metadata": {},
   "outputs": [
    {
     "name": "stdout",
     "output_type": "stream",
     "text": [
      "Mirror: ZJU (https://mirrors.zju.edu.cn/julia)\n",
      "1 required packages:\n",
      " - RandomNumbers                 0.1.1\n"
     ]
    }
   ],
   "source": [
    "PKG.status()"
   ]
  },
  {
   "cell_type": "markdown",
   "metadata": {
    "slideshow": {
     "slide_type": "slide"
    }
   },
   "source": [
    "## 镜像站结构\n",
    "\n",
    "https://mirrors.zju.edu.cn/julia\n",
    "```\n",
    "julia  # Mirror root\n",
    "├── status.json  # Current status\n",
    "├── releases\n",
    "│   ├── releaseinfo.json  # Meta info for Julia releases\n",
    "│   ├── latest            # Nightly builds\n",
    "│   │   ├── julia-latest.tar.gz     # Source\n",
    "│   │   ├── julia-latest.md5        # Checksums (md5 or sha256)\n",
    "│   │   ├── julia-latest-win64.exe  # Binaries for different platforms\n",
    "│   │   └── ...\n",
    "│   ├── v0.6              # Releases\n",
    "│   │   ├── julia-0.6.2-full.tar.gz            # Source with dependencies\n",
    "│   │   ├── julia-0.6.2-linux-i686.tar.gz.asc  # GPG signatures for tarballs\n",
    "│   │   └── ...                                # Others same as latest/\n",
    "│   └── ...\n",
    "│── packages\n",
    "│   ├── METADATA.jl      # Mirror for the git repository of metadata (For Julia versions before 0.7)\n",
    "│   └── METADATA.jl.git  # Bare copy for the mirror of metadata\n",
    "│── packages\n",
    "│   ├── RandomNumbers  # Packages (named without `.jl`)\n",
    "│   │   ├── General  # Folder with a name where the package is registered\n",
    "│   │   │   ├── RandomNumbers                       # Symbolic link to the package folder in the registry.\n",
    "│   │   │   ├── RandomNumbers-v0.1.1.tar.gz         # Zip files for releases\n",
    "│   │   │   ├── RandomNumbers-v0.1.1.tar.gz.sha256  # Checksum\n",
    "│   │   │   ├── RandomNumbers-v0.1.1.git            # Git info for depth of 1 (a shallow clone). Deprecated.\n",
    "│   │   │   ├── RandomNumbers-latest.tar.gz         # if --latest-packages is set\n",
    "│   │   │   └── ...\n",
    "│   │   └── ...\n",
    "│   └── ...\n",
    "└── registries\n",
    "    ├── General      # General registry for Pkg.jl (For Julia versions from 0.7)\n",
    "    │   ├── A  # Alphabetically named folders\n",
    "    │   ├── B\n",
    "    │   ├── ...\n",
    "    │   ├── R\n",
    "    │   │   ├── RandomNumbers\n",
    "    │   │   │   ├── Package.toml   # Basic information of the package\n",
    "    │   │   │   ├── Versions.toml  # List versions of the package\n",
    "    │   │   │   ├── Deps.toml      # Dependencies of each version\n",
    "    │   │   │   ├── Compat.toml    # Compatibility of each version\n",
    "    │   │   │   └── releases       # Symbolic link to the package folder above\n",
    "    │   │   └── ...\n",
    "    │   └── ...\n",
    "    └── General.git  # Bare copy for the mirror of general registry\n",
    "```"
   ]
  },
  {
   "cell_type": "markdown",
   "metadata": {
    "slideshow": {
     "slide_type": "slide"
    }
   },
   "source": [
    "## julia-mirror\n",
    "\n",
    "https://github.com/sunoru/julia-mirror\n",
    "```\n",
    "usage: mirror_julia.py [-h] [--no-releases] [--no-metadata] [--no-general]\n",
    "                       [--no-packages] [--add-registry {General}]\n",
    "                       [--add-custom-registry CUSTOM_REGISTRIES CUSTOM_REGISTRIES]\n",
    "                       [--max-processes N] [--sync-latest-packages]\n",
    "                       [--ignore-invalid-registry] [--ignore-404]\n",
    "                       [--temp-dir TEMP_DIR] [--logging-file LOGGING_FILE]\n",
    "                       [--logging-level {DEBUG,INFO,WARNING,ERROR}]\n",
    "                       pathname\n",
    "\n",
    "Build a mirror for the Julia language.\n",
    "\n",
    "positional arguments:\n",
    "  pathname              path to the root of the mirror\n",
    "\n",
    "optional arguments:\n",
    "  -h, --help            show this help message and exit\n",
    "  --no-releases         do not mirror Julia releases\n",
    "  --no-metadata         do not mirror METADATA.jl\n",
    "  --no-general          do not mirror General registry (which is the default\n",
    "                        for registries)\n",
    "  --no-packages         do not mirror packages (and will be automatically set\n",
    "                        if no registries are to mirrored)\n",
    "  --add-registry {General}\n",
    "                        add a registry specified by name\n",
    "  --add-custom-registry CUSTOM_REGISTRIES CUSTOM_REGISTRIES\n",
    "                        add a registry specified by a custom URL\n",
    "  --max-processes N     use up to N processes for downloading (default: 4)\n",
    "  --sync-latest-packages\n",
    "                        also mirror packages on master branch\n",
    "  --ignore-invalid-registry\n",
    "                        ignore when a registry is not valid\n",
    "  --ignore-404          ignore when a download file is not found\n",
    "  --temp-dir TEMP_DIR   directory for saving temporary files\n",
    "  --logging-file LOGGING_FILE\n",
    "                        save log to a file instead of to STDOUT\n",
    "  --logging-level {DEBUG,INFO,WARNING,ERROR}\n",
    "                        set logging level (default: WARNING)\n",
    "```"
   ]
  },
  {
   "cell_type": "markdown",
   "metadata": {
    "slideshow": {
     "slide_type": "slide"
    }
   },
   "source": [
    "# 谢谢！"
   ]
  }
 ],
 "metadata": {
  "celltoolbar": "Slideshow",
  "kernelspec": {
   "display_name": "Julia 0.6.1",
   "language": "julia",
   "name": "julia-0.6"
  },
  "language_info": {
   "file_extension": ".jl",
   "mimetype": "application/julia",
   "name": "julia",
   "version": "0.6.1"
  }
 },
 "nbformat": 4,
 "nbformat_minor": 2
}
